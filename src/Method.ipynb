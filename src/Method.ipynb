{
 "cells": [
  {
   "cell_type": "code",
   "execution_count": 96,
   "id": "18c10575",
   "metadata": {},
   "outputs": [],
   "source": [
    "import numpy as np\n",
    "import pandas as pd\n",
    "import matplotlib\n",
    "from matplotlib import pylab as plt\n",
    "from sklearn.compose import ColumnTransformer\n",
    "from sklearn.pipeline import Pipeline\n",
    "from sklearn.preprocessing import StandardScaler, OneHotEncoder, OrdinalEncoder, MinMaxScaler\n",
    "from sklearn.model_selection import train_test_split\n",
    "import matplotlib.patches as mpatches\n",
    "from sklearn.model_selection import StratifiedKFold"
   ]
  },
  {
   "cell_type": "code",
   "execution_count": 78,
   "id": "3b6d1b22",
   "metadata": {},
   "outputs": [],
   "source": [
    "df = pd.read_csv('data/car_loan.csv')"
   ]
  },
  {
   "cell_type": "code",
   "execution_count": 79,
   "id": "c2d75c9f",
   "metadata": {},
   "outputs": [],
   "source": [
    "df['Employment.Type'] = df['Employment.Type'].fillna(\"Unknown\")"
   ]
  },
  {
   "cell_type": "code",
   "execution_count": 80,
   "id": "7877041d",
   "metadata": {},
   "outputs": [],
   "source": [
    "a = df['AVERAGE.ACCT.AGE']\n",
    "a = pd.DataFrame(a)\n",
    "a = a['AVERAGE.ACCT.AGE'].str.split(' ',expand = True)\n",
    "a.columns= ['years','months']\n",
    "a.years = a.years.str[:-3]\n",
    "a.months = a.months.str[:-3]\n",
    "a.years = a.years.astype('int')\n",
    "a.months = a.months.astype('int')\n",
    "a['AVERAGE.ACCT.AGE'] = a.years*12+a.months\n",
    "df['AVERAGE.ACCT.AGE']=a['AVERAGE.ACCT.AGE']\n",
    "#df = pd.concat([df,a.num_mon],axis = 1)\n",
    "b = df['CREDIT.HISTORY.LENGTH']\n",
    "b = pd.DataFrame(b)\n",
    "b = b['CREDIT.HISTORY.LENGTH'].str.split(' ',expand = True)\n",
    "b.columns= ['years','months']\n",
    "b.years = b.years.str[:-3]\n",
    "b.months = b.months.str[:-3]\n",
    "b.years = b.years.astype('int')\n",
    "b.months = b.months.astype('int')\n",
    "b['CREDIT.HISTORY.LENGTH'] = b.years*12+a.months\n",
    "df['CREDIT.HISTORY.LENGTH']=b['CREDIT.HISTORY.LENGTH']\n",
    "#df = pd.concat([df,b.Credit_num_mon],axis = 1)"
   ]
  },
  {
   "cell_type": "code",
   "execution_count": 81,
   "id": "f8a72f75",
   "metadata": {},
   "outputs": [],
   "source": [
    "from datetime import date\n",
    "df['Date.of.Birth'] = pd.to_datetime(df['Date.of.Birth'])\n",
    "df['DisbursalDate'] = pd.to_datetime(df['DisbursalDate'])\n",
    "def calculate_age(born):\n",
    "    today = date.today()\n",
    "    return today.year - born.year - ((today.month, today.day) < (born.month, born.day))\n",
    "df['Date.of.Birth'] = df['Date.of.Birth'].apply(calculate_age)\n",
    "df['DisbursalDate'] = df['DisbursalDate'].apply(calculate_age)"
   ]
  },
  {
   "cell_type": "code",
   "execution_count": 82,
   "id": "86caa4e5",
   "metadata": {},
   "outputs": [],
   "source": [
    "df['total_overdue_accts'] = df['PRI.OVERDUE.ACCTS']+df['SEC.OVERDUE.ACCTS']\n",
    "df['total_current_balance'] = df['PRI.CURRENT.BALANCE']+df['SEC.CURRENT.BALANCE']\n",
    "df['total_sanctioned_amount'] = df['PRI.SANCTIONED.AMOUNT']+df['SEC.SANCTIONED.AMOUNT']\n",
    "df['total_EMI'] = df['PRIMARY.INSTAL.AMT']+df['SEC.INSTAL.AMT']\n",
    "df['total_no_of_accts']=df['PRI.NO.OF.ACCTS']+df['SEC.NO.OF.ACCTS']"
   ]
  },
  {
   "cell_type": "code",
   "execution_count": 102,
   "id": "5e4409c3",
   "metadata": {},
   "outputs": [],
   "source": [
    "X_numCol=['disbursed_amount',\n",
    "'asset_cost',\n",
    "'ltv','Employee_code_ID',\n",
    "'PERFORM_CNS.SCORE',\n",
    "'NEW.ACCTS.IN.LAST.SIX.MONTHS',\n",
    "'DELINQUENT.ACCTS.IN.LAST.SIX.MONTHS','NO.OF_INQUIRIES','Date.of.Birth','DisbursalDate',\n",
    "'total_overdue_accts','total_current_balance','total_sanctioned_amount',\n",
    "'total_EMI','total_no_of_accts',\n",
    "'AVERAGE.ACCT.AGE','CREDIT.HISTORY.LENGTH']\n",
    "X_catCol=['branch_id',\n",
    "'supplier_id',\n",
    "'manufacturer_id',\n",
    "'Current_pincode_ID','Employment.Type','State_ID','MobileNo_Avl_Flag',\n",
    "'Aadhar_flag',\n",
    "'PAN_flag',\n",
    "'VoterID_flag',\n",
    "'Driving_flag',\n",
    "'Passport_flag']\n",
    "X_age=['Date.of.Birth']\n",
    "X_order=['PERFORM_CNS.SCORE.DESCRIPTION']"
   ]
  },
  {
   "cell_type": "code",
   "execution_count": 84,
   "id": "2e54bed1",
   "metadata": {},
   "outputs": [
    {
     "data": {
      "text/plain": [
       "array([0, 1])"
      ]
     },
     "execution_count": 84,
     "metadata": {},
     "output_type": "execute_result"
    }
   ],
   "source": [
    "df['ID_provided'] = df.PAN_flag+df.VoterID_flag+df.Driving_flag+df.Passport_flag\n",
    "df['ID_provided']=df['ID_provided'].apply(lambda x: 1 if x>=1 else 0)\n",
    "df['ID_provided'].apply(lambda x: 1 if x>=1 else 0).unique()"
   ]
  },
  {
   "cell_type": "code",
   "execution_count": 100,
   "id": "ccc0efb0",
   "metadata": {},
   "outputs": [
    {
     "data": {
      "text/plain": [
       "Index(['No Bureau History Available', 'C-Very Low Risk', 'A-Very Low Risk',\n",
       "       'D-Very Low Risk', 'B-Very Low Risk', 'M-Very High Risk', 'F-Low Risk',\n",
       "       'K-High Risk', 'H-Medium Risk', 'E-Low Risk', 'I-Medium Risk',\n",
       "       'G-Low Risk', 'Not Scored: Sufficient History Not Available',\n",
       "       'J-High Risk', 'Not Scored: Not Enough Info available on the customer',\n",
       "       'Not Scored: No Activity seen on the customer (Inactive)',\n",
       "       'Not Scored: No Updates available in last 36 months',\n",
       "       'L-Very High Risk', 'Not Scored: Only a Guarantor',\n",
       "       'Not Scored: More than 50 active Accounts found'],\n",
       "      dtype='object')"
      ]
     },
     "execution_count": 100,
     "metadata": {},
     "output_type": "execute_result"
    }
   ],
   "source": [
    "df['PERFORM_CNS.SCORE.DESCRIPTION'].value_counts().index"
   ]
  },
  {
   "cell_type": "code",
   "execution_count": 85,
   "id": "6618b235",
   "metadata": {},
   "outputs": [],
   "source": [
    "y = df['loan_default']\n",
    "X = df.loc[:, df.columns != 'loan_default']"
   ]
  },
  {
   "cell_type": "code",
   "execution_count": 103,
   "id": "148b9bfa",
   "metadata": {},
   "outputs": [
    {
     "name": "stdout",
     "output_type": "stream",
     "text": [
      "test balance: 0    0.782939\n",
      "1    0.217061\n",
      "Name: loan_default, dtype: float64\n"
     ]
    }
   ],
   "source": [
    "# stratified K Fold: variation in balance is very small (4th decimal point)\n",
    "random_state = 42\n",
    "\n",
    "# stratified train-test split\n",
    "X_other, X_test, y_other, y_test = train_test_split(X,y,test_size = 0.1,stratify=y,random_state=random_state)\n",
    "print('test balance:',y_test.value_counts(normalize=True))\n",
    "ordinal_cats = [['No Bureau History Available', 'C-Very Low Risk', 'A-Very Low Risk',\n",
    "       'D-Very Low Risk', 'B-Very Low Risk', 'M-Very High Risk', 'F-Low Risk',\n",
    "       'K-High Risk', 'H-Medium Risk', 'E-Low Risk', 'I-Medium Risk',\n",
    "       'G-Low Risk', 'Not Scored: Sufficient History Not Available',\n",
    "       'J-High Risk', 'Not Scored: Not Enough Info available on the customer',\n",
    "       'Not Scored: No Activity seen on the customer (Inactive)',\n",
    "       'Not Scored: No Updates available in last 36 months',\n",
    "       'L-Very High Risk', 'Not Scored: Only a Guarantor',\n",
    "       'Not Scored: More than 50 active Accounts found']]\n",
    "# do StratifiedKFold split on other\n",
    "kf = StratifiedKFold(n_splits=10,shuffle=True,random_state=random_state)\n",
    "for train_index, val_index in kf.split(X_other,y_other):\n",
    "    X_train = X_other.iloc[train_index]\n",
    "    y_train = y_other.iloc[train_index]\n",
    "    X_val = X_other.iloc[val_index]\n",
    "    y_val = y_other.iloc[val_index]\n",
    "    preprocessor = ColumnTransformer(\n",
    "    transformers=[\n",
    "        ('ord', OrdinalEncoder(categories = ordinal_cats), X_order),\n",
    "        ('onehot', OneHotEncoder(sparse=False,handle_unknown='ignore'), X_catCol),\n",
    "        ('minmax', MinMaxScaler(), X_age),\n",
    "        ('std', StandardScaler(), X_numCol)])\n",
    "    clf = Pipeline(steps=[('preprocessor', preprocessor)]) \n",
    "\n",
    "    X_train_prep = clf.fit_transform(X_train)\n",
    "    X_val_prep = clf.transform(X_val)\n",
    "    X_test_prep = clf.transform(X_test)"
   ]
  },
  {
   "cell_type": "code",
   "execution_count": 104,
   "id": "889785e1",
   "metadata": {},
   "outputs": [
    {
     "data": {
      "text/plain": [
       "(188855, 69)"
      ]
     },
     "execution_count": 104,
     "metadata": {},
     "output_type": "execute_result"
    }
   ],
   "source": [
    "X_train.shape"
   ]
  },
  {
   "cell_type": "code",
   "execution_count": 45,
   "id": "11fd0cad",
   "metadata": {},
   "outputs": [
    {
     "data": {
      "text/plain": [
       "(23316, 69)"
      ]
     },
     "execution_count": 45,
     "metadata": {},
     "output_type": "execute_result"
    }
   ],
   "source": [
    "X_test.shape"
   ]
  },
  {
   "cell_type": "code",
   "execution_count": 46,
   "id": "ff8f977b",
   "metadata": {},
   "outputs": [
    {
     "data": {
      "text/plain": [
       "(20983, 69)"
      ]
     },
     "execution_count": 46,
     "metadata": {},
     "output_type": "execute_result"
    }
   ],
   "source": [
    "X_val.shape"
   ]
  },
  {
   "cell_type": "code",
   "execution_count": null,
   "id": "8f96d4e2",
   "metadata": {},
   "outputs": [],
   "source": []
  }
 ],
 "metadata": {
  "kernelspec": {
   "display_name": "Python 3",
   "language": "python",
   "name": "python3"
  },
  "language_info": {
   "codemirror_mode": {
    "name": "ipython",
    "version": 3
   },
   "file_extension": ".py",
   "mimetype": "text/x-python",
   "name": "python",
   "nbconvert_exporter": "python",
   "pygments_lexer": "ipython3",
   "version": "3.8.8"
  }
 },
 "nbformat": 4,
 "nbformat_minor": 5
}
